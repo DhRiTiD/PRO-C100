{
  "nbformat": 4,
  "nbformat_minor": 0,
  "metadata": {
    "colab": {
      "provenance": [],
      "authorship_tag": "ABX9TyNgLRqfCDQxt0ATfg0q3a6L",
      "include_colab_link": true
    },
    "kernelspec": {
      "name": "python3",
      "display_name": "Python 3"
    },
    "language_info": {
      "name": "python"
    }
  },
  "cells": [
    {
      "cell_type": "markdown",
      "metadata": {
        "id": "view-in-github",
        "colab_type": "text"
      },
      "source": [
        "<a href=\"https://colab.research.google.com/github/DhRiTiD/PRO-C100/blob/main/proC100.ipynb\" target=\"_parent\"><img src=\"https://colab.research.google.com/assets/colab-badge.svg\" alt=\"Open In Colab\"/></a>"
      ]
    },
    {
      "cell_type": "code",
      "execution_count": null,
      "metadata": {
        "id": "kWerkHMvqxLk"
      },
      "outputs": [],
      "source": [
        "class Contact_Details:\n",
        "  def __init__(self, name, mobile, add, email):\n",
        "    self.name=name\n",
        "    self.mobile=mobile\n",
        "    self.add=add\n",
        "    self.email=email\n",
        "\n",
        "    self.person={\n",
        "        'name': self.name,\n",
        "        'mobile' : self.mobile,\n",
        "        'add': self.add,\n",
        "        'email' : self.email\n",
        "    }\n",
        "  def view_contact_details(self, contact_list):\n",
        "    print(contact_list)\n",
        "  \n",
        "  def add_contact_details(self, contact_list):\n",
        "    contact_list.append(self.person)"
      ]
    },
    {
      "cell_type": "code",
      "source": [
        "phonebook_list=[]\n",
        "\n",
        "new_contact=Contact_Details('Dhriti', 1234567890, 'INDIA', 'd _____ @gmail.com') #calling constructor through obj creation\n",
        "new_contact.add_contact_details(phonebook_list)\n",
        "\n",
        "new_contact.view_contact_details(phonebook_list)"
      ],
      "metadata": {
        "colab": {
          "base_uri": "https://localhost:8080/"
        },
        "id": "-XuJEk-CXJrJ",
        "outputId": "213c41f2-3314-46c7-a0d0-5074247918f0"
      },
      "execution_count": 34,
      "outputs": [
        {
          "output_type": "stream",
          "name": "stdout",
          "text": [
            "[{'name': 'Dhriti', 'mobile': 1234567890, 'add': 'INDIA', 'email': 'd _____ @gmail.com'}]\n"
          ]
        }
      ]
    }
  ]
}