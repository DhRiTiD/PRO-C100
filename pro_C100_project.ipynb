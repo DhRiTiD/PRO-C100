{
  "nbformat": 4,
  "nbformat_minor": 0,
  "metadata": {
    "colab": {
      "provenance": [],
      "authorship_tag": "ABX9TyOEE6Qium+yXyvJzI2SHrni",
      "include_colab_link": true
    },
    "kernelspec": {
      "name": "python3",
      "display_name": "Python 3"
    },
    "language_info": {
      "name": "python"
    }
  },
  "cells": [
    {
      "cell_type": "markdown",
      "metadata": {
        "id": "view-in-github",
        "colab_type": "text"
      },
      "source": [
        "<a href=\"https://colab.research.google.com/github/DhRiTiD/PRO-C100/blob/main/pro_C100_project.ipynb\" target=\"_parent\"><img src=\"https://colab.research.google.com/assets/colab-badge.svg\" alt=\"Open In Colab\"/></a>"
      ]
    },
    {
      "cell_type": "code",
      "source": [
        "class MovieReview:\n",
        "  def __init__(self, movie, actor, story, music):\n",
        "    self.movie_name= movie\n",
        "    self.actor_rating= actor\n",
        "    self.story_rating= story\n",
        "    self.music_rating= music\n",
        "    self.avg= (self.actor_rating + self.story_rating + self.music_rating )//3\n",
        "\n",
        "    self.myrating={\n",
        "        'movie name': self.movie_name,\n",
        "        'actor rating' : self.actor_rating,\n",
        "        'story rating': self.story_rating,\n",
        "        'music rating' : self.music_rating,\n",
        "        'Avg rating' : self.avg\n",
        "    }\n",
        "  \n",
        "  def create_review_list(self, review_list):\n",
        "    review_list.append(self.myrating)\n",
        "\n",
        "    # displaying list \n",
        "    for j in review_list[0]:\n",
        "      print(j, ':', review_list[0][j], end='; ') \n",
        "  \n",
        "  def avg_star_rating(self, review_list):\n",
        "    stars=''\n",
        "    for i in range(0, self.avg):\n",
        "      stars+='⭐'\n",
        "    print()\n",
        "    print('Thank You for your responce! You Rated the movie', self.movie_name, 'with--', stars)\n"
      ],
      "metadata": {
        "id": "-2JZN3XPX0jE"
      },
      "execution_count": 13,
      "outputs": []
    },
    {
      "cell_type": "code",
      "source": [
        "# entering the ratings\n",
        "Name=input('which movie do you want to rate? ')\n",
        "Actor = int(input('rate the actor out of 5..'))\n",
        "Story = int(input('rate the story out of 5..'))\n",
        "Music = int(input('rate the music out of 5..'))\n",
        "\n",
        "ratings=[]\n",
        "\n",
        "#Displaying the rating 'stars'\n",
        "new_rating=MovieReview(Name, Actor, Story, Music) \n",
        "new_rating.create_review_list(ratings)\n",
        "new_rating.avg_star_rating(ratings)\n"
      ],
      "metadata": {
        "colab": {
          "base_uri": "https://localhost:8080/"
        },
        "id": "fPwRwnF7teEA",
        "outputId": "e44b6db2-0541-4234-9f05-7130626f7943"
      },
      "execution_count": 14,
      "outputs": [
        {
          "output_type": "stream",
          "name": "stdout",
          "text": [
            "which movie do you want to rate? A Silent Voice\n",
            "rate the actor out of 5..5\n",
            "rate the story out of 5..4\n",
            "rate the music out of 5..5\n",
            "movie name : A Silent Voice; actor rating : 5; story rating : 4; music rating : 5; Avg rating : 4; \n",
            "Thank You for your responce! You Rated the movie A Silent Voice with-- ⭐⭐⭐⭐\n"
          ]
        }
      ]
    }
  ]
}